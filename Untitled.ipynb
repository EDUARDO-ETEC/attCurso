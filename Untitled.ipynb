{
  "metadata": {
    "language_info": {
      "codemirror_mode": {
        "name": "python",
        "version": 3
      },
      "file_extension": ".py",
      "mimetype": "text/x-python",
      "name": "python",
      "nbconvert_exporter": "python",
      "pygments_lexer": "ipython3",
      "version": "3.8"
    },
    "kernelspec": {
      "name": "python",
      "display_name": "Pyolite",
      "language": "python"
    }
  },
  "nbformat_minor": 4,
  "nbformat": 4,
  "cells": [
    {
      "cell_type": "code",
      "source": "# Exercício 1 inserir os seus dados acima em variáveis\n#Exemplo\nnome = \"Anderson Vanin\"\nTurma = \"Tarde\"\n#continue.....",
      "metadata": {},
      "execution_count": null,
      "outputs": []
    },
    {
      "cell_type": "code",
      "source": "s = \"Eduardo Galindo\"\nprint(s)\nturma = \"Tarde\"",
      "metadata": {},
      "execution_count": null,
      "outputs": []
    },
    {
      "cell_type": "code",
      "source": "# Exercício 2 -Apos inserir dados acima usando o slicing (exemplo no notebook de manipulação de Strings), imprima na tela apenas seu sobrenome",
      "metadata": {},
      "execution_count": null,
      "outputs": []
    },
    {
      "cell_type": "code",
      "source": "print(s.startswith(\"Galindo\"))",
      "metadata": {},
      "execution_count": null,
      "outputs": []
    },
    {
      "cell_type": "code",
      "source": "# Exercício 3 -  imprima seu nome de trás pra frente",
      "metadata": {},
      "execution_count": null,
      "outputs": []
    },
    {
      "cell_type": "code",
      "source": "nome = input( “Digite seu nome:”)\nprint (nome.upper () [::-1])",
      "metadata": {},
      "execution_count": null,
      "outputs": []
    },
    {
      "cell_type": "code",
      "source": "# Exercício 5 -Imprima na tela os números de 1 a 10. Use uma lista para armazenar os números.",
      "metadata": {},
      "execution_count": null,
      "outputs": []
    },
    {
      "cell_type": "code",
      "source": "lista = [1,2,3,4,5,6,7,8,9,10]\nprint(lista)",
      "metadata": {},
      "execution_count": null,
      "outputs": []
    },
    {
      "cell_type": "code",
      "source": "[1, 2, 3, 4, 5, 6, 7, 8, 9, 10]",
      "metadata": {},
      "execution_count": null,
      "outputs": []
    },
    {
      "cell_type": "code",
      "source": "# Exercício 6 - Crie uma lista de 5 objetos e imprima na tela",
      "metadata": {},
      "execution_count": null,
      "outputs": []
    },
    {
      "cell_type": "code",
      "source": "lista = ['PS4', 'XBOX ONE', 'NINTENDO', 'PS5', 'XBOX 360']\nprint(lista)",
      "metadata": {},
      "execution_count": null,
      "outputs": []
    },
    {
      "cell_type": "code",
      "source": "['PS4', 'XBOX ONE', 'NINTENDO', 'PS5', 'XBOX 360']",
      "metadata": {},
      "execution_count": null,
      "outputs": []
    },
    {
      "cell_type": "code",
      "source": "# Exercício 7 - - Crie duas strings e concatene as duas em uma terceira string",
      "metadata": {},
      "execution_count": null,
      "outputs": []
    },
    {
      "cell_type": "code",
      "source": "f1 = 'Gente '\nf2 = 'Grande'\nfi = f1 + f2\nprint(fi)",
      "metadata": {},
      "execution_count": null,
      "outputs": []
    },
    {
      "cell_type": "code",
      "source": "Gente Grande",
      "metadata": {},
      "execution_count": null,
      "outputs": []
    },
    {
      "cell_type": "code",
      "source": "# Exercício 8 - Crie uma tupla com os seguintes elementos: 1, 2, 2, 3, 4, 4, 4, 5 e depois utilize a função count do \n# objeto tupla para verificar quantas vezes o número 4 aparece na tupla",
      "metadata": {},
      "execution_count": null,
      "outputs": []
    },
    {
      "cell_type": "code",
      "source": "tup1 = (1, 2, 2, 3, 4, 4, 4, 5)\ntup1.count(4)",
      "metadata": {},
      "execution_count": null,
      "outputs": []
    },
    {
      "cell_type": "code",
      "source": "Out[5]:\n3",
      "metadata": {},
      "execution_count": null,
      "outputs": []
    },
    {
      "cell_type": "code",
      "source": "# Exercício 9 - Crie um dicionário vazio e imprima na tela",
      "metadata": {},
      "execution_count": null,
      "outputs": []
    },
    {
      "cell_type": "code",
      "source": "dict3 = {}\nprint(dict3)\n{}",
      "metadata": {},
      "execution_count": null,
      "outputs": []
    },
    {
      "cell_type": "code",
      "source": "# Exercício 10 - Crie um dicionário com 3 chaves e 3 valores e imprima na tela",
      "metadata": {},
      "execution_count": null,
      "outputs": []
    },
    {
      "cell_type": "code",
      "source": "dict = {'C1':'diamante', 'C2':'ferro', 'C3':'ouro'}\nprint(dict)",
      "metadata": {},
      "execution_count": null,
      "outputs": []
    },
    {
      "cell_type": "code",
      "source": "{'C1':'diamante', 'C2':'ferro', 'C3':'ouro'}",
      "metadata": {},
      "execution_count": null,
      "outputs": []
    },
    {
      "cell_type": "code",
      "source": "# Exercício 11 - Adicione mais um elemento ao dicionário criado no exercício anterior e imprima na tela",
      "metadata": {},
      "execution_count": null,
      "outputs": []
    },
    {
      "cell_type": "code",
      "source": "dict['C4'] = 'esmeralda'\nprint(dict)",
      "metadata": {},
      "execution_count": null,
      "outputs": []
    },
    {
      "cell_type": "code",
      "source": "{'C1':'diamante', 'C2':'ferro', 'C3':'ouro', 'C4':'esmeralda'}",
      "metadata": {},
      "execution_count": null,
      "outputs": []
    },
    {
      "cell_type": "code",
      "source": "# Exercício 12 - Crie um dicionário com 3 chaves e 3 valores. Um dos valores deve ser uma lista de 2 elementos numéricos. \n# Imprima o dicionário na tela.",
      "metadata": {},
      "execution_count": null,
      "outputs": []
    },
    {
      "cell_type": "code",
      "source": "dict2 = {'chave1':'Minecraft', 'chave2':'God of War', 'chave3':[80, 100]}\nprint(dict2)",
      "metadata": {},
      "execution_count": null,
      "outputs": []
    },
    {
      "cell_type": "code",
      "source": "{'chave1':'Minecraft', 'chave2':'God of War', 'chave3':[80, 100]}",
      "metadata": {},
      "execution_count": null,
      "outputs": []
    },
    {
      "cell_type": "code",
      "source": "# Exercício 13 - Crie uma lista de 4 elementos. O primeiro elemento deve ser uma string, \n# o segundo uma tupla de 2 elementos, o terceiro um dcionário com 2 chaves e 2 valores e \n# o quarto elemento um valor do tipo float.\n# Imprima a lista na tela.",
      "metadata": {},
      "execution_count": null,
      "outputs": []
    },
    {
      "cell_type": "code",
      "source": "lst = ['String1', (90, 92), {'C1':'V1', 'C2':'V2'}, 99.98]\nprint(lst)",
      "metadata": {},
      "execution_count": null,
      "outputs": []
    },
    {
      "cell_type": "code",
      "source": "['String1', (90, 92), {'C1': 'V1', 'C2': 'V2'}, 99.98]",
      "metadata": {},
      "execution_count": null,
      "outputs": []
    },
    {
      "cell_type": "code",
      "source": "# Exercício 14 - Considere a string abaixo. Imprima na tela apenas os caracteres da posição 1 a 18.\nfrase = 'Cientista de Dados é o profissional mais legal do século XXI'",
      "metadata": {},
      "execution_count": null,
      "outputs": []
    },
    {
      "cell_type": "code",
      "source": "frase[0:18]",
      "metadata": {},
      "execution_count": null,
      "outputs": []
    },
    {
      "cell_type": "code",
      "source": "Out[11]:\n'Cientista de Dados'",
      "metadata": {},
      "execution_count": null,
      "outputs": []
    }
  ]
}